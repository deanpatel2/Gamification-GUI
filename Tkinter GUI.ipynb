{
 "cells": [
  {
   "cell_type": "markdown",
   "metadata": {},
   "source": [
    "# Gamification GUI\n",
    "## Dean Patel\n",
    "\n",
    "This program generates a user form presenting a value pair for the user to validate. It is a simple tkinter application with a yes/no button which allows the user to easily validate a pair as noise or signal. It records the users selections and prints the list of signal and noise pairs at the end of program, which occurs after the whole set of pairs has been viewed."
   ]
  },
  {
   "cell_type": "code",
   "execution_count": 11,
   "metadata": {},
   "outputs": [],
   "source": [
    "from tkinter import *\n",
    "from tkinter.ttk import *"
   ]
  },
  {
   "cell_type": "code",
   "execution_count": 12,
   "metadata": {},
   "outputs": [],
   "source": [
    "pairs = [[\"CITY: Princeton\", \"ZIP: 08540\"], [\"CITY: Princeton\", \"ZIP: 02118\"], [\"CITY: Princeton\", \"ZIP: 12345\"]]\n",
    "\n",
    "signal = []\n",
    "noise = []"
   ]
  },
  {
   "cell_type": "code",
   "execution_count": 13,
   "metadata": {},
   "outputs": [],
   "source": [
    "# generates form structure\n",
    "def generateForm(window, pairs):\n",
    "    question = Label(window, text=\"Do these two values look like they belong together?\", font=(\"Arial Bold\", 14))\n",
    "    question.grid(column=0, row=1)\n",
    "    \n",
    "    # empty values label\n",
    "    values = Label(window)\n",
    "    # placeholder for display\n",
    "    values.grid(column=0, row=2)\n",
    "    \n",
    "    if pairs: # are there still pairs to be validated?\n",
    "        # set current pair\n",
    "        curPair = pairs[0]\n",
    "        \n",
    "        # configure values label to display current pair\n",
    "        values.config(text= curPair, font=48)\n",
    "        \n",
    "        # pop out curPair from pair list\n",
    "        pairs.pop(0)\n",
    "        \n",
    "        # configures a yes button\n",
    "        yes_btn = Button(window, text = 'Yes',command = lambda: clickedYes(window, curPair, pairs))\n",
    "        yes_btn.grid(column=0, row=3)\n",
    "        \n",
    "        # configures a no button\n",
    "        no_btn = Button(window, text = 'No', command = lambda: clickedNo(window, curPair, pairs))\n",
    "        no_btn.grid(column=0, row=4)\n",
    "    else:\n",
    "        # ends the program\n",
    "        window.destroy()\n",
    "       \n",
    "    \n"
   ]
  },
  {
   "cell_type": "code",
   "execution_count": 14,
   "metadata": {},
   "outputs": [],
   "source": [
    "# updates validated pairs, generates next form\n",
    "def clickedYes(window, curPair, rest):\n",
    "    if (not curPair in signal):\n",
    "        signal.append(curPair)\n",
    "    #print(\"The validated list is: {}\".format(validated))\n",
    "    generateForm(window, rest)\n",
    "\n",
    "# updates noise pairs, generates next form\n",
    "def clickedNo(window, curPair, rest):\n",
    "    if (not curPair in noise):\n",
    "        noise.append(curPair)\n",
    "    #print(\"The validated list is: {}\".format(validated))\n",
    "    generateForm(window, rest)"
   ]
  },
  {
   "cell_type": "code",
   "execution_count": 15,
   "metadata": {},
   "outputs": [
    {
     "name": "stdout",
     "output_type": "stream",
     "text": [
      "The validated list is: [['CITY: Princeton', 'ZIP: 08540']]\n",
      "The noise list is: [['CITY: Princeton', 'ZIP: 02118'], ['CITY: Princeton', 'ZIP: 12345']]\n"
     ]
    }
   ],
   "source": [
    "# main\n",
    "window = Tk()\n",
    "\n",
    "window.geometry('500x200')\n",
    "\n",
    "window.title(\"User Validator\")\n",
    "\n",
    "generateForm(window, pairs)\n",
    "\n",
    "window.mainloop()\n",
    "\n",
    "print(\"The validated list is: {}\".format(signal))\n",
    "print(\"The noise list is: {}\".format(noise))"
   ]
  },
  {
   "cell_type": "markdown",
   "metadata": {},
   "source": [
    "# Next Steps\n",
    "\n",
    "## 12 March 2021\n",
    "\n",
    "- Remove duplicates of the same pair from the pairs list\n",
    "- Add \"learning\" aspect\n",
    "\n",
    "\n"
   ]
  }
 ],
 "metadata": {
  "kernelspec": {
   "display_name": "Python 3",
   "language": "python",
   "name": "python3"
  },
  "language_info": {
   "codemirror_mode": {
    "name": "ipython",
    "version": 3
   },
   "file_extension": ".py",
   "mimetype": "text/x-python",
   "name": "python",
   "nbconvert_exporter": "python",
   "pygments_lexer": "ipython3",
   "version": "3.8.5"
  }
 },
 "nbformat": 4,
 "nbformat_minor": 4
}
